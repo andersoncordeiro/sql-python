{
 "cells": [
  {
   "cell_type": "code",
   "execution_count": 2,
   "metadata": {},
   "outputs": [],
   "source": [
    "import sqlite3\n",
    "import pandas as pd\n",
    "\n",
    "conn_teste        = sqlite3.connect('data/base_teste.db')\n",
    "conn_universidade = sqlite3.connect('data/universidade.db')\n",
    "\n",
    "def consulta(query, conn):\n",
    "    return pd.read_sql(query, conn)"
   ]
  },
  {
   "cell_type": "code",
   "execution_count": 14,
   "metadata": {},
   "outputs": [],
   "source": [
    "df_persons = consulta(\"SELECT * FROM person\", conn_universidade)"
   ]
  },
  {
   "cell_type": "code",
   "execution_count": 15,
   "metadata": {},
   "outputs": [
    {
     "data": {
      "text/html": [
       "<div>\n",
       "<style scoped>\n",
       "    .dataframe tbody tr th:only-of-type {\n",
       "        vertical-align: middle;\n",
       "    }\n",
       "\n",
       "    .dataframe tbody tr th {\n",
       "        vertical-align: top;\n",
       "    }\n",
       "\n",
       "    .dataframe thead th {\n",
       "        text-align: right;\n",
       "    }\n",
       "</style>\n",
       "<table border=\"1\" class=\"dataframe\">\n",
       "  <thead>\n",
       "    <tr style=\"text-align: right;\">\n",
       "      <th></th>\n",
       "      <th>personid</th>\n",
       "      <th>firstname</th>\n",
       "      <th>middleinitial</th>\n",
       "      <th>lastname</th>\n",
       "      <th>dateofbirth</th>\n",
       "    </tr>\n",
       "  </thead>\n",
       "  <tbody>\n",
       "    <tr>\n",
       "      <th>0</th>\n",
       "      <td>1</td>\n",
       "      <td>Adele</td>\n",
       "      <td>S</td>\n",
       "      <td>Rosales</td>\n",
       "      <td>1984-05-05</td>\n",
       "    </tr>\n",
       "    <tr>\n",
       "      <th>1</th>\n",
       "      <td>2</td>\n",
       "      <td>Justus</td>\n",
       "      <td>Z</td>\n",
       "      <td>Gomez</td>\n",
       "      <td>2007-04-06</td>\n",
       "    </tr>\n",
       "    <tr>\n",
       "      <th>2</th>\n",
       "      <td>3</td>\n",
       "      <td>Isiah</td>\n",
       "      <td>Z</td>\n",
       "      <td>Warner</td>\n",
       "      <td>1992-06-04</td>\n",
       "    </tr>\n",
       "    <tr>\n",
       "      <th>3</th>\n",
       "      <td>4</td>\n",
       "      <td>Erica</td>\n",
       "      <td>L</td>\n",
       "      <td>Campos</td>\n",
       "      <td>1994-05-14</td>\n",
       "    </tr>\n",
       "    <tr>\n",
       "      <th>4</th>\n",
       "      <td>5</td>\n",
       "      <td>Desmond</td>\n",
       "      <td>W</td>\n",
       "      <td>Valdez</td>\n",
       "      <td>1996-11-19</td>\n",
       "    </tr>\n",
       "  </tbody>\n",
       "</table>\n",
       "</div>"
      ],
      "text/plain": [
       "   personid firstname middleinitial lastname dateofbirth\n",
       "0         1     Adele             S  Rosales  1984-05-05\n",
       "1         2    Justus             Z    Gomez  2007-04-06\n",
       "2         3     Isiah             Z   Warner  1992-06-04\n",
       "3         4     Erica             L   Campos  1994-05-14\n",
       "4         5   Desmond             W   Valdez  1996-11-19"
      ]
     },
     "execution_count": 15,
     "metadata": {},
     "output_type": "execute_result"
    }
   ],
   "source": [
    "df_persons.head()"
   ]
  },
  {
   "cell_type": "code",
   "execution_count": 16,
   "metadata": {},
   "outputs": [],
   "source": [
    "# conn = sqlite3.connect('data/base_teste.db')\n",
    "# CREATE DATABASE base_teste;"
   ]
  },
  {
   "cell_type": "code",
   "execution_count": 5,
   "metadata": {},
   "outputs": [],
   "source": [
    "cursor = conn_teste.cursor()"
   ]
  },
  {
   "cell_type": "code",
   "execution_count": 8,
   "metadata": {},
   "outputs": [],
   "source": [
    "SQL = \"\"\"\n",
    "        CREATE TABLE IF NOT EXISTS person (\n",
    "            personid INTEGER PRIMARY KEY AUTOINCREMENT,\n",
    "            firstname TEXT,\n",
    "            middleinitial TEXT,\n",
    "            lastname TEXT, \n",
    "            dateofbirth TEXT\n",
    "        )\n",
    "      \"\"\""
   ]
  },
  {
   "cell_type": "code",
   "execution_count": 9,
   "metadata": {},
   "outputs": [
    {
     "data": {
      "text/plain": [
       "<sqlite3.Cursor at 0x7f1bddf4e2c0>"
      ]
     },
     "execution_count": 9,
     "metadata": {},
     "output_type": "execute_result"
    }
   ],
   "source": [
    "cursor.execute(SQL)"
   ]
  },
  {
   "cell_type": "code",
   "execution_count": 20,
   "metadata": {},
   "outputs": [
    {
     "data": {
      "text/plain": [
       "[(0, 'personid', 'INTEGER', 0, None, 1),\n",
       " (1, 'firstname', 'TEXT', 0, None, 0),\n",
       " (2, 'middleinitial', 'TEXT', 0, None, 0),\n",
       " (3, 'lastname', 'TEXT', 0, None, 0),\n",
       " (4, 'dateofbirth', 'TEXT', 0, None, 0)]"
      ]
     },
     "execution_count": 20,
     "metadata": {},
     "output_type": "execute_result"
    }
   ],
   "source": [
    "cursor.execute(\"PRAGMA table_info(person)\").fetchall()"
   ]
  },
  {
   "cell_type": "code",
   "execution_count": 10,
   "metadata": {},
   "outputs": [],
   "source": [
    "SQL = \"\"\"\n",
    "      INSERT INTO person(firstname, middleinitial, lastname, dateofbirth)\n",
    "      VALUES ('Anderson', 'C', 'Cordeiro', '1986-05-06')\n",
    "      \"\"\""
   ]
  },
  {
   "cell_type": "code",
   "execution_count": 11,
   "metadata": {},
   "outputs": [
    {
     "data": {
      "text/plain": [
       "<sqlite3.Cursor at 0x7f1bddf4e2c0>"
      ]
     },
     "execution_count": 11,
     "metadata": {},
     "output_type": "execute_result"
    }
   ],
   "source": [
    "cursor.execute(SQL)"
   ]
  },
  {
   "cell_type": "code",
   "execution_count": 12,
   "metadata": {},
   "outputs": [
    {
     "data": {
      "text/plain": [
       "[(1, 'Anderson', 'C', 'Cordeiro', '1986-05-06')]"
      ]
     },
     "execution_count": 12,
     "metadata": {},
     "output_type": "execute_result"
    }
   ],
   "source": [
    "cursor.execute(\"SELECT * FROM person\").fetchall()"
   ]
  },
  {
   "cell_type": "code",
   "execution_count": 26,
   "metadata": {},
   "outputs": [
    {
     "data": {
      "text/html": [
       "<div>\n",
       "<style scoped>\n",
       "    .dataframe tbody tr th:only-of-type {\n",
       "        vertical-align: middle;\n",
       "    }\n",
       "\n",
       "    .dataframe tbody tr th {\n",
       "        vertical-align: top;\n",
       "    }\n",
       "\n",
       "    .dataframe thead th {\n",
       "        text-align: right;\n",
       "    }\n",
       "</style>\n",
       "<table border=\"1\" class=\"dataframe\">\n",
       "  <thead>\n",
       "    <tr style=\"text-align: right;\">\n",
       "      <th></th>\n",
       "      <th>personid</th>\n",
       "      <th>firstname</th>\n",
       "      <th>middleinitial</th>\n",
       "      <th>lastname</th>\n",
       "      <th>dateofbirth</th>\n",
       "    </tr>\n",
       "  </thead>\n",
       "  <tbody>\n",
       "    <tr>\n",
       "      <th>0</th>\n",
       "      <td>1</td>\n",
       "      <td>Anderson</td>\n",
       "      <td>C</td>\n",
       "      <td>Cordeiro</td>\n",
       "      <td>1986-05-06</td>\n",
       "    </tr>\n",
       "  </tbody>\n",
       "</table>\n",
       "</div>"
      ],
      "text/plain": [
       "   personid firstname middleinitial  lastname dateofbirth\n",
       "0         1  Anderson             C  Cordeiro  1986-05-06"
      ]
     },
     "execution_count": 26,
     "metadata": {},
     "output_type": "execute_result"
    }
   ],
   "source": [
    "consulta('SELECT * FROM person', conn_teste)"
   ]
  },
  {
   "cell_type": "code",
   "execution_count": 13,
   "metadata": {},
   "outputs": [],
   "source": [
    "lista_pessoas = [\n",
    "    ('Maria', 'C', 'Cordeiro', '1976-05-06'),\n",
    "    ('João', 'D', 'Silva', '1966-05-06'),\n",
    "    ('José', 'E', 'Abreu', '1996-05-06')\n",
    "]"
   ]
  },
  {
   "cell_type": "code",
   "execution_count": 15,
   "metadata": {},
   "outputs": [],
   "source": [
    "SQL = \"\"\"\n",
    "      INSERT INTO person(firstname, middleinitial, lastname, dateofbirth)\n",
    "      VALUES (?, ?, ?, ?)\n",
    "      \"\"\""
   ]
  },
  {
   "cell_type": "code",
   "execution_count": 16,
   "metadata": {},
   "outputs": [
    {
     "data": {
      "text/plain": [
       "<sqlite3.Cursor at 0x7f1bddf4e2c0>"
      ]
     },
     "execution_count": 16,
     "metadata": {},
     "output_type": "execute_result"
    }
   ],
   "source": [
    "cursor.executemany(SQL, lista_pessoas)"
   ]
  },
  {
   "cell_type": "code",
   "execution_count": 17,
   "metadata": {},
   "outputs": [
    {
     "data": {
      "text/plain": [
       "[(1, 'Anderson', 'C', 'Cordeiro', '1986-05-06'),\n",
       " (2, 'Maria', 'C', 'Cordeiro', '1976-05-06'),\n",
       " (3, 'João', 'D', 'Silva', '1966-05-06'),\n",
       " (4, 'José', 'E', 'Abreu', '1996-05-06')]"
      ]
     },
     "execution_count": 17,
     "metadata": {},
     "output_type": "execute_result"
    }
   ],
   "source": [
    "cursor.execute(\"SELECT * FROM person\").fetchall()"
   ]
  },
  {
   "cell_type": "code",
   "execution_count": null,
   "metadata": {},
   "outputs": [],
   "source": [
    "for pessoa in lista_pessoas:\n",
    "    cursor.execute(SQL, pessoa)"
   ]
  },
  {
   "cell_type": "code",
   "execution_count": null,
   "metadata": {},
   "outputs": [],
   "source": [
    "for pessoa in lista_pessoas:\n",
    "    SQL = f\"\"\"\n",
    "            INSERT INTO person(firstname, middleinitial, lastname, dateofbirth)\n",
    "            VALUES ('{pessoa[0]}', '{pessoa[1]}', '{pessoa[2]}', '{pessoa[3]}')\n",
    "          \"\"\"\n",
    "    cursor.execute(SQL)"
   ]
  },
  {
   "cell_type": "code",
   "execution_count": 20,
   "metadata": {},
   "outputs": [],
   "source": [
    "import pandas as pd"
   ]
  },
  {
   "cell_type": "code",
   "execution_count": 38,
   "metadata": {},
   "outputs": [],
   "source": [
    "df_person = pd.read_csv('data/SamplePersonData')"
   ]
  },
  {
   "cell_type": "code",
   "execution_count": 39,
   "metadata": {},
   "outputs": [
    {
     "data": {
      "text/html": [
       "<div>\n",
       "<style scoped>\n",
       "    .dataframe tbody tr th:only-of-type {\n",
       "        vertical-align: middle;\n",
       "    }\n",
       "\n",
       "    .dataframe tbody tr th {\n",
       "        vertical-align: top;\n",
       "    }\n",
       "\n",
       "    .dataframe thead th {\n",
       "        text-align: right;\n",
       "    }\n",
       "</style>\n",
       "<table border=\"1\" class=\"dataframe\">\n",
       "  <thead>\n",
       "    <tr style=\"text-align: right;\">\n",
       "      <th></th>\n",
       "      <th>personid</th>\n",
       "      <th>firstname</th>\n",
       "      <th>middleinitial</th>\n",
       "      <th>lastname</th>\n",
       "      <th>dateofbirth</th>\n",
       "    </tr>\n",
       "  </thead>\n",
       "  <tbody>\n",
       "    <tr>\n",
       "      <th>0</th>\n",
       "      <td>1</td>\n",
       "      <td>Adele</td>\n",
       "      <td>S</td>\n",
       "      <td>Rosales</td>\n",
       "      <td>1984-05-05</td>\n",
       "    </tr>\n",
       "    <tr>\n",
       "      <th>1</th>\n",
       "      <td>2</td>\n",
       "      <td>Justus</td>\n",
       "      <td>Z</td>\n",
       "      <td>Gomez</td>\n",
       "      <td>2007-04-06</td>\n",
       "    </tr>\n",
       "    <tr>\n",
       "      <th>2</th>\n",
       "      <td>3</td>\n",
       "      <td>Isiah</td>\n",
       "      <td>Z</td>\n",
       "      <td>Warner</td>\n",
       "      <td>1992-06-04</td>\n",
       "    </tr>\n",
       "    <tr>\n",
       "      <th>3</th>\n",
       "      <td>4</td>\n",
       "      <td>Erica</td>\n",
       "      <td>L</td>\n",
       "      <td>Campos</td>\n",
       "      <td>1994-05-14</td>\n",
       "    </tr>\n",
       "    <tr>\n",
       "      <th>4</th>\n",
       "      <td>5</td>\n",
       "      <td>Desmond</td>\n",
       "      <td>W</td>\n",
       "      <td>Valdez</td>\n",
       "      <td>1996-11-19</td>\n",
       "    </tr>\n",
       "    <tr>\n",
       "      <th>...</th>\n",
       "      <td>...</td>\n",
       "      <td>...</td>\n",
       "      <td>...</td>\n",
       "      <td>...</td>\n",
       "      <td>...</td>\n",
       "    </tr>\n",
       "    <tr>\n",
       "      <th>995</th>\n",
       "      <td>996</td>\n",
       "      <td>Piper</td>\n",
       "      <td>D</td>\n",
       "      <td>Dunn</td>\n",
       "      <td>1980-07-20</td>\n",
       "    </tr>\n",
       "    <tr>\n",
       "      <th>996</th>\n",
       "      <td>997</td>\n",
       "      <td>Emmalyn</td>\n",
       "      <td>Y</td>\n",
       "      <td>Barr</td>\n",
       "      <td>1983-09-07</td>\n",
       "    </tr>\n",
       "    <tr>\n",
       "      <th>997</th>\n",
       "      <td>998</td>\n",
       "      <td>Audrina</td>\n",
       "      <td>X</td>\n",
       "      <td>Solis</td>\n",
       "      <td>1994-02-24</td>\n",
       "    </tr>\n",
       "    <tr>\n",
       "      <th>998</th>\n",
       "      <td>999</td>\n",
       "      <td>Tyler</td>\n",
       "      <td>I</td>\n",
       "      <td>Harrell</td>\n",
       "      <td>1992-02-17</td>\n",
       "    </tr>\n",
       "    <tr>\n",
       "      <th>999</th>\n",
       "      <td>1000</td>\n",
       "      <td>Caroline</td>\n",
       "      <td>G</td>\n",
       "      <td>Baker</td>\n",
       "      <td>1986-04-19</td>\n",
       "    </tr>\n",
       "  </tbody>\n",
       "</table>\n",
       "<p>1000 rows × 5 columns</p>\n",
       "</div>"
      ],
      "text/plain": [
       "     personid  firstname  middleinitial  lastname  dateofbirth\n",
       "0           1      Adele              S   Rosales   1984-05-05\n",
       "1           2     Justus              Z     Gomez   2007-04-06\n",
       "2           3      Isiah              Z    Warner   1992-06-04\n",
       "3           4      Erica              L    Campos   1994-05-14\n",
       "4           5    Desmond              W    Valdez   1996-11-19\n",
       "..        ...        ...            ...       ...          ...\n",
       "995       996      Piper              D      Dunn   1980-07-20\n",
       "996       997    Emmalyn              Y      Barr   1983-09-07\n",
       "997       998    Audrina              X     Solis   1994-02-24\n",
       "998       999      Tyler              I   Harrell   1992-02-17\n",
       "999      1000   Caroline              G     Baker   1986-04-19\n",
       "\n",
       "[1000 rows x 5 columns]"
      ]
     },
     "execution_count": 39,
     "metadata": {},
     "output_type": "execute_result"
    }
   ],
   "source": [
    "df_person"
   ]
  },
  {
   "cell_type": "code",
   "execution_count": 40,
   "metadata": {},
   "outputs": [
    {
     "data": {
      "text/plain": [
       "1000"
      ]
     },
     "execution_count": 40,
     "metadata": {},
     "output_type": "execute_result"
    }
   ],
   "source": [
    "df_person.to_sql('person', conn_teste, if_exists='replace')"
   ]
  },
  {
   "cell_type": "code",
   "execution_count": 42,
   "metadata": {},
   "outputs": [
    {
     "name": "stdout",
     "output_type": "stream",
     "text": [
      "<class 'pandas.core.frame.DataFrame'>\n",
      "RangeIndex: 1000 entries, 0 to 999\n",
      "Data columns (total 5 columns):\n",
      " #   Column          Non-Null Count  Dtype \n",
      "---  ------          --------------  ----- \n",
      " 0   personid        1000 non-null   int64 \n",
      " 1    firstname      1000 non-null   object\n",
      " 2    middleinitial  1000 non-null   object\n",
      " 3    lastname       1000 non-null   object\n",
      " 4    dateofbirth    1000 non-null   object\n",
      "dtypes: int64(1), object(4)\n",
      "memory usage: 39.2+ KB\n"
     ]
    }
   ],
   "source": [
    "df_person.info()"
   ]
  },
  {
   "cell_type": "code",
   "execution_count": null,
   "metadata": {},
   "outputs": [],
   "source": [
    "df_person.to_sql('new_person', conn_teste, if_exists='replace')"
   ]
  }
 ],
 "metadata": {
  "kernelspec": {
   "display_name": ".food_cluster",
   "language": "python",
   "name": "python3"
  },
  "language_info": {
   "codemirror_mode": {
    "name": "ipython",
    "version": 3
   },
   "file_extension": ".py",
   "mimetype": "text/x-python",
   "name": "python",
   "nbconvert_exporter": "python",
   "pygments_lexer": "ipython3",
   "version": "3.10.8"
  },
  "orig_nbformat": 4,
  "vscode": {
   "interpreter": {
    "hash": "7d18ca6acfadb32d9ba096cc111f63f09dfe565394d64a5b5f0ec529504c1632"
   }
  }
 },
 "nbformat": 4,
 "nbformat_minor": 2
}
